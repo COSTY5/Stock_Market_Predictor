{
  "nbformat": 4,
  "nbformat_minor": 0,
  "metadata": {
    "colab": {
      "provenance": []
    },
    "kernelspec": {
      "name": "python3",
      "display_name": "Python 3"
    }
  },
  "cells": [
    {
      "cell_type": "code",
      "metadata": {
        "id": "R_IvogxO2pSy",
        "colab": {
          "base_uri": "https://localhost:8080/"
        },
        "outputId": "d9c79c91-230a-4bb2-8403-3baa37476018"
      },
      "source": [
        "!pip install --upgrade pandas\n",
        "!pip install --upgrade pandas-datareader"
      ],
      "execution_count": null,
      "outputs": [
        {
          "output_type": "stream",
          "name": "stdout",
          "text": [
            "Looking in indexes: https://pypi.org/simple, https://us-python.pkg.dev/colab-wheels/public/simple/\n",
            "Requirement already satisfied: pandas in /usr/local/lib/python3.7/dist-packages (1.3.5)\n",
            "Requirement already satisfied: numpy>=1.17.3 in /usr/local/lib/python3.7/dist-packages (from pandas) (1.21.6)\n",
            "Requirement already satisfied: python-dateutil>=2.7.3 in /usr/local/lib/python3.7/dist-packages (from pandas) (2.8.2)\n",
            "Requirement already satisfied: pytz>=2017.3 in /usr/local/lib/python3.7/dist-packages (from pandas) (2022.1)\n",
            "Requirement already satisfied: six>=1.5 in /usr/local/lib/python3.7/dist-packages (from python-dateutil>=2.7.3->pandas) (1.15.0)\n",
            "Looking in indexes: https://pypi.org/simple, https://us-python.pkg.dev/colab-wheels/public/simple/\n",
            "Requirement already satisfied: pandas-datareader in /usr/local/lib/python3.7/dist-packages (0.9.0)\n",
            "Collecting pandas-datareader\n",
            "  Downloading pandas_datareader-0.10.0-py3-none-any.whl (109 kB)\n",
            "\u001b[K     |████████████████████████████████| 109 kB 13.2 MB/s \n",
            "\u001b[?25hRequirement already satisfied: requests>=2.19.0 in /usr/local/lib/python3.7/dist-packages (from pandas-datareader) (2.23.0)\n",
            "Requirement already satisfied: pandas>=0.23 in /usr/local/lib/python3.7/dist-packages (from pandas-datareader) (1.3.5)\n",
            "Requirement already satisfied: lxml in /usr/local/lib/python3.7/dist-packages (from pandas-datareader) (4.2.6)\n",
            "Requirement already satisfied: pytz>=2017.3 in /usr/local/lib/python3.7/dist-packages (from pandas>=0.23->pandas-datareader) (2022.1)\n",
            "Requirement already satisfied: numpy>=1.17.3 in /usr/local/lib/python3.7/dist-packages (from pandas>=0.23->pandas-datareader) (1.21.6)\n",
            "Requirement already satisfied: python-dateutil>=2.7.3 in /usr/local/lib/python3.7/dist-packages (from pandas>=0.23->pandas-datareader) (2.8.2)\n",
            "Requirement already satisfied: six>=1.5 in /usr/local/lib/python3.7/dist-packages (from python-dateutil>=2.7.3->pandas>=0.23->pandas-datareader) (1.15.0)\n",
            "Requirement already satisfied: certifi>=2017.4.17 in /usr/local/lib/python3.7/dist-packages (from requests>=2.19.0->pandas-datareader) (2022.6.15)\n",
            "Requirement already satisfied: chardet<4,>=3.0.2 in /usr/local/lib/python3.7/dist-packages (from requests>=2.19.0->pandas-datareader) (3.0.4)\n",
            "Requirement already satisfied: urllib3!=1.25.0,!=1.25.1,<1.26,>=1.21.1 in /usr/local/lib/python3.7/dist-packages (from requests>=2.19.0->pandas-datareader) (1.24.3)\n",
            "Requirement already satisfied: idna<3,>=2.5 in /usr/local/lib/python3.7/dist-packages (from requests>=2.19.0->pandas-datareader) (2.10)\n",
            "Installing collected packages: pandas-datareader\n",
            "  Attempting uninstall: pandas-datareader\n",
            "    Found existing installation: pandas-datareader 0.9.0\n",
            "    Uninstalling pandas-datareader-0.9.0:\n",
            "      Successfully uninstalled pandas-datareader-0.9.0\n",
            "Successfully installed pandas-datareader-0.10.0\n"
          ]
        }
      ]
    },
    {
      "cell_type": "code",
      "metadata": {
        "id": "qLFuPppHvH7y"
      },
      "source": [
        "import math\n",
        "import pandas_datareader as web\n",
        "import numpy as np\n",
        "import pandas as pd\n",
        "from sklearn.preprocessing import MinMaxScaler\n",
        "from keras.models import Sequential\n",
        "from keras.layers import Dense, LSTM\n",
        "import matplotlib.pyplot as plt\n",
        "plt.style.use('fivethirtyeight')"
      ],
      "execution_count": null,
      "outputs": []
    },
    {
      "cell_type": "markdown",
      "metadata": {
        "id": "sPDwIyC9Lt-d"
      },
      "source": [
        "## **COMPLETE MODEL BUILDING**"
      ]
    },
    {
      "cell_type": "code",
      "metadata": {
        "id": "r668HVXvvbMA"
      },
      "source": [
        "df = web.DataReader('CGPOWER.NS', data_source='yahoo', start='2012-01-01', end='2019-12-17')"
      ],
      "execution_count": null,
      "outputs": []
    },
    {
      "cell_type": "code",
      "metadata": {
        "id": "JD2abkLCwFhx",
        "colab": {
          "base_uri": "https://localhost:8080/",
          "height": 455
        },
        "outputId": "365d8ecc-b035-4e0a-c7d0-8e512f77cdba"
      },
      "source": [
        "df"
      ],
      "execution_count": null,
      "outputs": [
        {
          "output_type": "execute_result",
          "data": {
            "text/plain": [
              "                 High        Low       Open      Close     Volume  Adj Close\n",
              "Date                                                                        \n",
              "2012-01-02  44.484386  42.856064  43.756840  43.098579  1723914.0  39.500015\n",
              "2012-01-03  43.999355  42.786774  43.479675  43.566288  2481913.0  39.928673\n",
              "2012-01-04  45.714291  43.427708  43.652901  44.917450  4251670.0  41.167023\n",
              "2012-01-05  46.389870  45.194611  45.454449  45.454449  3134281.0  41.659180\n",
              "2012-01-06  45.696968  43.445030  45.489098  43.774158  5168505.0  40.119190\n",
              "...               ...        ...        ...        ...        ...        ...\n",
              "2019-12-12  11.650000  10.650000  11.000000  11.550000  1118968.0  11.550000\n",
              "2019-12-13  12.100000  11.550000  11.900000  12.100000  2562743.0  12.100000\n",
              "2019-12-16  12.100000  11.600000  12.100000  11.950000   634157.0  11.950000\n",
              "2019-12-17  12.050000  11.600000  11.950000  11.650000   748013.0  11.650000\n",
              "2019-12-18  11.900000  11.150000  11.650000  11.400000   893084.0  11.400000\n",
              "\n",
              "[1958 rows x 6 columns]"
            ],
            "text/html": [
              "\n",
              "  <div id=\"df-52c95b72-720e-4740-9f5a-f9f54d94eb84\">\n",
              "    <div class=\"colab-df-container\">\n",
              "      <div>\n",
              "<style scoped>\n",
              "    .dataframe tbody tr th:only-of-type {\n",
              "        vertical-align: middle;\n",
              "    }\n",
              "\n",
              "    .dataframe tbody tr th {\n",
              "        vertical-align: top;\n",
              "    }\n",
              "\n",
              "    .dataframe thead th {\n",
              "        text-align: right;\n",
              "    }\n",
              "</style>\n",
              "<table border=\"1\" class=\"dataframe\">\n",
              "  <thead>\n",
              "    <tr style=\"text-align: right;\">\n",
              "      <th></th>\n",
              "      <th>High</th>\n",
              "      <th>Low</th>\n",
              "      <th>Open</th>\n",
              "      <th>Close</th>\n",
              "      <th>Volume</th>\n",
              "      <th>Adj Close</th>\n",
              "    </tr>\n",
              "    <tr>\n",
              "      <th>Date</th>\n",
              "      <th></th>\n",
              "      <th></th>\n",
              "      <th></th>\n",
              "      <th></th>\n",
              "      <th></th>\n",
              "      <th></th>\n",
              "    </tr>\n",
              "  </thead>\n",
              "  <tbody>\n",
              "    <tr>\n",
              "      <th>2012-01-02</th>\n",
              "      <td>44.484386</td>\n",
              "      <td>42.856064</td>\n",
              "      <td>43.756840</td>\n",
              "      <td>43.098579</td>\n",
              "      <td>1723914.0</td>\n",
              "      <td>39.500015</td>\n",
              "    </tr>\n",
              "    <tr>\n",
              "      <th>2012-01-03</th>\n",
              "      <td>43.999355</td>\n",
              "      <td>42.786774</td>\n",
              "      <td>43.479675</td>\n",
              "      <td>43.566288</td>\n",
              "      <td>2481913.0</td>\n",
              "      <td>39.928673</td>\n",
              "    </tr>\n",
              "    <tr>\n",
              "      <th>2012-01-04</th>\n",
              "      <td>45.714291</td>\n",
              "      <td>43.427708</td>\n",
              "      <td>43.652901</td>\n",
              "      <td>44.917450</td>\n",
              "      <td>4251670.0</td>\n",
              "      <td>41.167023</td>\n",
              "    </tr>\n",
              "    <tr>\n",
              "      <th>2012-01-05</th>\n",
              "      <td>46.389870</td>\n",
              "      <td>45.194611</td>\n",
              "      <td>45.454449</td>\n",
              "      <td>45.454449</td>\n",
              "      <td>3134281.0</td>\n",
              "      <td>41.659180</td>\n",
              "    </tr>\n",
              "    <tr>\n",
              "      <th>2012-01-06</th>\n",
              "      <td>45.696968</td>\n",
              "      <td>43.445030</td>\n",
              "      <td>45.489098</td>\n",
              "      <td>43.774158</td>\n",
              "      <td>5168505.0</td>\n",
              "      <td>40.119190</td>\n",
              "    </tr>\n",
              "    <tr>\n",
              "      <th>...</th>\n",
              "      <td>...</td>\n",
              "      <td>...</td>\n",
              "      <td>...</td>\n",
              "      <td>...</td>\n",
              "      <td>...</td>\n",
              "      <td>...</td>\n",
              "    </tr>\n",
              "    <tr>\n",
              "      <th>2019-12-12</th>\n",
              "      <td>11.650000</td>\n",
              "      <td>10.650000</td>\n",
              "      <td>11.000000</td>\n",
              "      <td>11.550000</td>\n",
              "      <td>1118968.0</td>\n",
              "      <td>11.550000</td>\n",
              "    </tr>\n",
              "    <tr>\n",
              "      <th>2019-12-13</th>\n",
              "      <td>12.100000</td>\n",
              "      <td>11.550000</td>\n",
              "      <td>11.900000</td>\n",
              "      <td>12.100000</td>\n",
              "      <td>2562743.0</td>\n",
              "      <td>12.100000</td>\n",
              "    </tr>\n",
              "    <tr>\n",
              "      <th>2019-12-16</th>\n",
              "      <td>12.100000</td>\n",
              "      <td>11.600000</td>\n",
              "      <td>12.100000</td>\n",
              "      <td>11.950000</td>\n",
              "      <td>634157.0</td>\n",
              "      <td>11.950000</td>\n",
              "    </tr>\n",
              "    <tr>\n",
              "      <th>2019-12-17</th>\n",
              "      <td>12.050000</td>\n",
              "      <td>11.600000</td>\n",
              "      <td>11.950000</td>\n",
              "      <td>11.650000</td>\n",
              "      <td>748013.0</td>\n",
              "      <td>11.650000</td>\n",
              "    </tr>\n",
              "    <tr>\n",
              "      <th>2019-12-18</th>\n",
              "      <td>11.900000</td>\n",
              "      <td>11.150000</td>\n",
              "      <td>11.650000</td>\n",
              "      <td>11.400000</td>\n",
              "      <td>893084.0</td>\n",
              "      <td>11.400000</td>\n",
              "    </tr>\n",
              "  </tbody>\n",
              "</table>\n",
              "<p>1958 rows × 6 columns</p>\n",
              "</div>\n",
              "      <button class=\"colab-df-convert\" onclick=\"convertToInteractive('df-52c95b72-720e-4740-9f5a-f9f54d94eb84')\"\n",
              "              title=\"Convert this dataframe to an interactive table.\"\n",
              "              style=\"display:none;\">\n",
              "        \n",
              "  <svg xmlns=\"http://www.w3.org/2000/svg\" height=\"24px\"viewBox=\"0 0 24 24\"\n",
              "       width=\"24px\">\n",
              "    <path d=\"M0 0h24v24H0V0z\" fill=\"none\"/>\n",
              "    <path d=\"M18.56 5.44l.94 2.06.94-2.06 2.06-.94-2.06-.94-.94-2.06-.94 2.06-2.06.94zm-11 1L8.5 8.5l.94-2.06 2.06-.94-2.06-.94L8.5 2.5l-.94 2.06-2.06.94zm10 10l.94 2.06.94-2.06 2.06-.94-2.06-.94-.94-2.06-.94 2.06-2.06.94z\"/><path d=\"M17.41 7.96l-1.37-1.37c-.4-.4-.92-.59-1.43-.59-.52 0-1.04.2-1.43.59L10.3 9.45l-7.72 7.72c-.78.78-.78 2.05 0 2.83L4 21.41c.39.39.9.59 1.41.59.51 0 1.02-.2 1.41-.59l7.78-7.78 2.81-2.81c.8-.78.8-2.07 0-2.86zM5.41 20L4 18.59l7.72-7.72 1.47 1.35L5.41 20z\"/>\n",
              "  </svg>\n",
              "      </button>\n",
              "      \n",
              "  <style>\n",
              "    .colab-df-container {\n",
              "      display:flex;\n",
              "      flex-wrap:wrap;\n",
              "      gap: 12px;\n",
              "    }\n",
              "\n",
              "    .colab-df-convert {\n",
              "      background-color: #E8F0FE;\n",
              "      border: none;\n",
              "      border-radius: 50%;\n",
              "      cursor: pointer;\n",
              "      display: none;\n",
              "      fill: #1967D2;\n",
              "      height: 32px;\n",
              "      padding: 0 0 0 0;\n",
              "      width: 32px;\n",
              "    }\n",
              "\n",
              "    .colab-df-convert:hover {\n",
              "      background-color: #E2EBFA;\n",
              "      box-shadow: 0px 1px 2px rgba(60, 64, 67, 0.3), 0px 1px 3px 1px rgba(60, 64, 67, 0.15);\n",
              "      fill: #174EA6;\n",
              "    }\n",
              "\n",
              "    [theme=dark] .colab-df-convert {\n",
              "      background-color: #3B4455;\n",
              "      fill: #D2E3FC;\n",
              "    }\n",
              "\n",
              "    [theme=dark] .colab-df-convert:hover {\n",
              "      background-color: #434B5C;\n",
              "      box-shadow: 0px 1px 3px 1px rgba(0, 0, 0, 0.15);\n",
              "      filter: drop-shadow(0px 1px 2px rgba(0, 0, 0, 0.3));\n",
              "      fill: #FFFFFF;\n",
              "    }\n",
              "  </style>\n",
              "\n",
              "      <script>\n",
              "        const buttonEl =\n",
              "          document.querySelector('#df-52c95b72-720e-4740-9f5a-f9f54d94eb84 button.colab-df-convert');\n",
              "        buttonEl.style.display =\n",
              "          google.colab.kernel.accessAllowed ? 'block' : 'none';\n",
              "\n",
              "        async function convertToInteractive(key) {\n",
              "          const element = document.querySelector('#df-52c95b72-720e-4740-9f5a-f9f54d94eb84');\n",
              "          const dataTable =\n",
              "            await google.colab.kernel.invokeFunction('convertToInteractive',\n",
              "                                                     [key], {});\n",
              "          if (!dataTable) return;\n",
              "\n",
              "          const docLinkHtml = 'Like what you see? Visit the ' +\n",
              "            '<a target=\"_blank\" href=https://colab.research.google.com/notebooks/data_table.ipynb>data table notebook</a>'\n",
              "            + ' to learn more about interactive tables.';\n",
              "          element.innerHTML = '';\n",
              "          dataTable['output_type'] = 'display_data';\n",
              "          await google.colab.output.renderOutput(dataTable, element);\n",
              "          const docLink = document.createElement('div');\n",
              "          docLink.innerHTML = docLinkHtml;\n",
              "          element.appendChild(docLink);\n",
              "        }\n",
              "      </script>\n",
              "    </div>\n",
              "  </div>\n",
              "  "
            ]
          },
          "metadata": {},
          "execution_count": 4
        }
      ]
    },
    {
      "cell_type": "code",
      "metadata": {
        "id": "29MxmWyZwHMZ",
        "colab": {
          "base_uri": "https://localhost:8080/"
        },
        "outputId": "980db5ec-79f4-49ab-8607-69566d1eb57f"
      },
      "source": [
        "df.shape"
      ],
      "execution_count": null,
      "outputs": [
        {
          "output_type": "execute_result",
          "data": {
            "text/plain": [
              "(1958, 6)"
            ]
          },
          "metadata": {},
          "execution_count": 5
        }
      ]
    },
    {
      "cell_type": "code",
      "metadata": {
        "id": "gJICtOpiwVvA",
        "colab": {
          "base_uri": "https://localhost:8080/",
          "height": 558
        },
        "outputId": "2f4767e1-1a2c-4ccc-8217-400eb4efd2e0"
      },
      "source": [
        "plt.figure(figsize=(16,8))\n",
        "plt.title(\"Close Price History\")\n",
        "plt.plot(df['Close'])\n",
        "plt.xlabel('Date', fontsize=18)\n",
        "plt.ylabel('Close Price USD($)', fontsize=18)\n",
        "plt.show()"
      ],
      "execution_count": null,
      "outputs": [
        {
          "output_type": "display_data",
          "data": {
            "text/plain": [
              "<Figure size 1152x576 with 1 Axes>"
            ],
            "image/png": "[encoded data removed]"
          },
          "metadata": {}
        }
      ]
    },
    {
      "cell_type": "code",
      "metadata": {
        "id": "GptgkSZ7w_F3",
        "colab": {
          "base_uri": "https://localhost:8080/"
        },
        "outputId": "2952c835-30e6-4369-bff0-9b0bc3fe5185"
      },
      "source": [
        "data = df.filter(['Close'])\n",
        "dataset = data.values\n",
        "training_data_len = math.ceil(len(dataset) * .8)\n",
        "\n",
        "training_data_len"
      ],
      "execution_count": null,
      "outputs": [
        {
          "output_type": "execute_result",
          "data": {
            "text/plain": [
              "1567"
            ]
          },
          "metadata": {},
          "execution_count": 7
        }
      ]
    },
    {
      "cell_type": "code",
      "metadata": {
        "id": "8yEFHeW5yUeW"
      },
      "source": [
        "scaler = MinMaxScaler(feature_range=(0,1))\n",
        "scaled_data = scaler.fit_transform(dataset)"
      ],
      "execution_count": null,
      "outputs": []
    },
    {
      "cell_type": "code",
      "metadata": {
        "id": "QVc7qkAUyjDk",
        "colab": {
          "base_uri": "https://localhost:8080/"
        },
        "outputId": "2e6e6362-fe5c-4dcc-d948-9500f2436af4"
      },
      "source": [
        "scaled_data"
      ],
      "execution_count": null,
      "outputs": [
        {
          "output_type": "execute_result",
          "data": {
            "text/plain": [
              "array([[0.38563429],\n",
              "       [0.39087766],\n",
              "       [0.40602522],\n",
              "       ...,\n",
              "       [0.03643498],\n",
              "       [0.03307175],\n",
              "       [0.03026906]])"
            ]
          },
          "metadata": {},
          "execution_count": 9
        }
      ]
    },
    {
      "cell_type": "code",
      "metadata": {
        "id": "1n3QR5UpysGh",
        "colab": {
          "base_uri": "https://localhost:8080/"
        },
        "outputId": "30659da2-2539-427a-fa9a-15e99765bc70"
      },
      "source": [
        "train_data = scaled_data[0:training_data_len, :]\n",
        "x_train, y_train = [], []\n",
        "\n",
        "for i in range(60, len(train_data)):\n",
        "  x_train.append(train_data[i-60:i,0])\n",
        "  y_train.append(train_data[i,0])\n",
        "  if i<=61:\n",
        "    print(x_train)\n",
        "    print(y_train)\n",
        "    print()"
      ],
      "execution_count": null,
      "outputs": [
        {
          "output_type": "stream",
          "name": "stdout",
          "text": [
            "[array([0.38563429, 0.39087766, 0.40602522, 0.41204538, 0.39320805,\n",
            "       0.39728627, 0.41379322, 0.41806559, 0.44408828, 0.44486508,\n",
            "       0.43787392, 0.45574026, 0.43185375, 0.42136697, 0.42292056,\n",
            "       0.42563935, 0.43243631, 0.45535186, 0.46331402, 0.42136697,\n",
            "       0.42039598, 0.46098363, 0.46933422, 0.45923584, 0.47185881,\n",
            "       0.45651705, 0.465256  , 0.47613118, 0.48894835, 0.51671884,\n",
            "       0.4974931 , 0.50390167, 0.51827243, 0.52623462, 0.53128379,\n",
            "       0.48700636, 0.49224973, 0.48273395, 0.45379827, 0.46409081,\n",
            "       0.45612866, 0.45515766, 0.45748805, 0.43340735, 0.43049436,\n",
            "       0.41981338, 0.4415637 , 0.43787392, 0.47554859, 0.4732182 ,\n",
            "       0.46972262, 0.44292309, 0.43651453, 0.44952585, 0.47166461,\n",
            "       0.43748552, 0.45962424, 0.4417579 , 0.43632033, 0.43670873])]\n",
            "[0.42272636429710286]\n",
            "\n",
            "[array([0.38563429, 0.39087766, 0.40602522, 0.41204538, 0.39320805,\n",
            "       0.39728627, 0.41379322, 0.41806559, 0.44408828, 0.44486508,\n",
            "       0.43787392, 0.45574026, 0.43185375, 0.42136697, 0.42292056,\n",
            "       0.42563935, 0.43243631, 0.45535186, 0.46331402, 0.42136697,\n",
            "       0.42039598, 0.46098363, 0.46933422, 0.45923584, 0.47185881,\n",
            "       0.45651705, 0.465256  , 0.47613118, 0.48894835, 0.51671884,\n",
            "       0.4974931 , 0.50390167, 0.51827243, 0.52623462, 0.53128379,\n",
            "       0.48700636, 0.49224973, 0.48273395, 0.45379827, 0.46409081,\n",
            "       0.45612866, 0.45515766, 0.45748805, 0.43340735, 0.43049436,\n",
            "       0.41981338, 0.4415637 , 0.43787392, 0.47554859, 0.4732182 ,\n",
            "       0.46972262, 0.44292309, 0.43651453, 0.44952585, 0.47166461,\n",
            "       0.43748552, 0.45962424, 0.4417579 , 0.43632033, 0.43670873]), array([0.39087766, 0.40602522, 0.41204538, 0.39320805, 0.39728627,\n",
            "       0.41379322, 0.41806559, 0.44408828, 0.44486508, 0.43787392,\n",
            "       0.45574026, 0.43185375, 0.42136697, 0.42292056, 0.42563935,\n",
            "       0.43243631, 0.45535186, 0.46331402, 0.42136697, 0.42039598,\n",
            "       0.46098363, 0.46933422, 0.45923584, 0.47185881, 0.45651705,\n",
            "       0.465256  , 0.47613118, 0.48894835, 0.51671884, 0.4974931 ,\n",
            "       0.50390167, 0.51827243, 0.52623462, 0.53128379, 0.48700636,\n",
            "       0.49224973, 0.48273395, 0.45379827, 0.46409081, 0.45612866,\n",
            "       0.45515766, 0.45748805, 0.43340735, 0.43049436, 0.41981338,\n",
            "       0.4415637 , 0.43787392, 0.47554859, 0.4732182 , 0.46972262,\n",
            "       0.44292309, 0.43651453, 0.44952585, 0.47166461, 0.43748552,\n",
            "       0.45962424, 0.4417579 , 0.43632033, 0.43670873, 0.42272636])]\n",
            "[0.42272636429710286, 0.4388449139667643]\n",
            "\n"
          ]
        }
      ]
    },
    {
      "cell_type": "code",
      "metadata": {
        "id": "wRwk4QbVzqc5"
      },
      "source": [
        "x_train, y_train = np.array(x_train), np.array(y_train)"
      ],
      "execution_count": null,
      "outputs": []
    },
    {
      "cell_type": "code",
      "metadata": {
        "id": "lSSvCy1X0ZuB",
        "colab": {
          "base_uri": "https://localhost:8080/"
        },
        "outputId": "abde468c-b215-4981-cc96-ab3731e8d5db"
      },
      "source": [
        "x_train = np.reshape(x_train, (x_train.shape[0], x_train.shape[1], 1))\n",
        "x_train.shape"
      ],
      "execution_count": null,
      "outputs": [
        {
          "output_type": "execute_result",
          "data": {
            "text/plain": [
              "(1507, 60, 1)"
            ]
          },
          "metadata": {},
          "execution_count": 12
        }
      ]
    },
    {
      "cell_type": "code",
      "metadata": {
        "id": "mC5TO4Bl0eQL"
      },
      "source": [
        "model = Sequential()\n",
        "\n",
        "model.add(LSTM(50, return_sequences=True, input_shape = (x_train.shape[1],1)))\n",
        "model.add(LSTM(50, return_sequences=False))\n",
        "model.add(Dense(25))\n",
        "model.add(Dense(1))"
      ],
      "execution_count": null,
      "outputs": []
    },
    {
      "cell_type": "code",
      "metadata": {
        "id": "e8PtIUuS1aLR",
        "colab": {
          "base_uri": "https://localhost:8080/"
        },
        "outputId": "69d363fd-8ec2-43f8-eb59-0afd4ca7fc64"
      },
      "source": [
        "model.summary()"
      ],
      "execution_count": null,
      "outputs": [
        {
          "output_type": "stream",
          "name": "stdout",
          "text": [
            "Model: \"sequential\"\n",
            "_________________________________________________________________\n",
            " Layer (type)                Output Shape              Param #   \n",
            "=================================================================\n",
            " lstm (LSTM)                 (None, 60, 50)            10400     \n",
            "                                                                 \n",
            " lstm_1 (LSTM)               (None, 50)                20200     \n",
            "                                                                 \n",
            " dense (Dense)               (None, 25)                1275      \n",
            "                                                                 \n",
            " dense_1 (Dense)             (None, 1)                 26        \n",
            "                                                                 \n",
            "=================================================================\n",
            "Total params: 31,901\n",
            "Trainable params: 31,901\n",
            "Non-trainable params: 0\n",
            "_________________________________________________________________\n"
          ]
        }
      ]
    },
    {
      "cell_type": "code",
      "metadata": {
        "id": "SToDxeUm1q_w"
      },
      "source": [
        "model.compile(optimizer='adam', loss='mean_squared_error')"
      ],
      "execution_count": null,
      "outputs": []
    },
    {
      "cell_type": "code",
      "metadata": {
        "id": "VM7lklXB11M_",
        "colab": {
          "base_uri": "https://localhost:8080/"
        },
        "outputId": "a8bd226e-9d74-405b-ed1b-7e1455f51f04"
      },
      "source": [
        "model.fit(x_train, y_train, batch_size=1, epochs=1)"
      ],
      "execution_count": null,
      "outputs": [
        {
          "output_type": "stream",
          "name": "stdout",
          "text": [
            "1507/1507 [==============================] - 32s 19ms/step - loss: 0.0024\n"
          ]
        },
        {
          "output_type": "execute_result",
          "data": {
            "text/plain": [
              "<keras.callbacks.History at 0x7f738e6db990>"
            ]
          },
          "metadata": {},
          "execution_count": 16
        }
      ]
    },
    {
      "cell_type": "code",
      "metadata": {
        "id": "PPdeliyz2Axg"
      },
      "source": [
        "test_data = scaled_data[training_data_len-60:,:]\n",
        "\n",
        "x_test, y_test = [], dataset[training_data_len:,:]\n",
        "\n",
        "for i in range(60, len(test_data)):\n",
        "  x_test.append(test_data[i-60:i,0])"
      ],
      "execution_count": null,
      "outputs": []
    },
    {
      "cell_type": "code",
      "metadata": {
        "id": "I9fuZ9nG24xS"
      },
      "source": [
        "x_test = np.array(x_test)"
      ],
      "execution_count": null,
      "outputs": []
    },
    {
      "cell_type": "code",
      "metadata": {
        "id": "uLQ-Ne9O3C2Z"
      },
      "source": [
        "x_test = np.reshape(x_test, (x_test.shape[0], x_test.shape[1], 1))"
      ],
      "execution_count": null,
      "outputs": []
    },
    {
      "cell_type": "code",
      "metadata": {
        "id": "j5xwf36R3Sv1"
      },
      "source": [
        "prediction = model.predict(x_test)\n",
        "prediction = scaler.inverse_transform(prediction)"
      ],
      "execution_count": null,
      "outputs": []
    },
    {
      "cell_type": "code",
      "metadata": {
        "id": "53zhB0wd3uap"
      },
      "source": [
        "rmse = np.sqrt(np.mean(prediction- y_test)**2)"
      ],
      "execution_count": null,
      "outputs": []
    },
    {
      "cell_type": "code",
      "metadata": {
        "id": "UgP7Dico3zuN",
        "colab": {
          "base_uri": "https://localhost:8080/"
        },
        "outputId": "64e506eb-9858-4aba-a7e0-65ae14070d58"
      },
      "source": [
        "rmse"
      ],
      "execution_count": null,
      "outputs": [
        {
          "output_type": "execute_result",
          "data": {
            "text/plain": [
              "2.290408022263471"
            ]
          },
          "metadata": {},
          "execution_count": 22
        }
      ]
    },
    {
      "cell_type": "code",
      "metadata": {
        "id": "fF7WTlBB4LbV",
        "colab": {
          "base_uri": "https://localhost:8080/"
        },
        "outputId": "227614b5-179a-46cf-c264-4a9fa2d221ac"
      },
      "source": [
        "train = data[:training_data_len]\n",
        "valid = data[training_data_len:]\n",
        "valid['Prediction'] = prediction"
      ],
      "execution_count": null,
      "outputs": [
        {
          "output_type": "stream",
          "name": "stderr",
          "text": [
            "/usr/local/lib/python3.7/dist-packages/ipykernel_launcher.py:3: SettingWithCopyWarning: \n",
            "A value is trying to be set on a copy of a slice from a DataFrame.\n",
            "Try using .loc[row_indexer,col_indexer] = value instead\n",
            "\n",
            "See the caveats in the documentation: https://pandas.pydata.org/pandas-docs/stable/user_guide/indexing.html#returning-a-view-versus-a-copy\n",
            "  This is separate from the ipykernel package so we can avoid doing imports until\n"
          ]
        }
      ]
    },
    {
      "cell_type": "code",
      "metadata": {
        "id": "8henDa_Q4mTW",
        "colab": {
          "base_uri": "https://localhost:8080/",
          "height": 558
        },
        "outputId": "78344bd3-9811-4345-9ffe-a9360f01cce1"
      },
      "source": [
        "plt.figure(figsize=(16,8))\n",
        "plt.title(\"Model\")\n",
        "plt.xlabel('Date', fontsize=18)\n",
        "plt.ylabel('Close Price USD($)', fontsize=18)\n",
        "plt.plot(train['Close'])\n",
        "plt.plot(valid[['Close','Prediction']])\n",
        "plt.legend(['Train','Val','Prediction'], loc='lower right')\n",
        "plt.show()"
      ],
      "execution_count": null,
      "outputs": [
        {
          "output_type": "display_data",
          "data": {
            "text/plain": [
              "<Figure size 1152x576 with 1 Axes>"
            ],
            "image/png": "[encoded data removed]"
          },
          "metadata": {}
        }
      ]
    },
    {
      "cell_type": "code",
      "metadata": {
        "id": "rsBJdDom5UsW",
        "colab": {
          "base_uri": "https://localhost:8080/",
          "height": 455
        },
        "outputId": "acf6b1c1-bd37-4214-9b2f-4baa12c81d2f"
      },
      "source": [
        "valid"
      ],
      "execution_count": null,
      "outputs": [
        {
          "output_type": "execute_result",
          "data": {
            "text/plain": [
              "                Close  Prediction\n",
              "Date                             \n",
              "2018-05-15  77.449997   77.968643\n",
              "2018-05-16  76.000000   77.327538\n",
              "2018-05-17  76.500000   76.492409\n",
              "2018-05-18  73.449997   75.807999\n",
              "2018-05-21  71.599998   74.791199\n",
              "...               ...         ...\n",
              "2019-12-12  11.550000    8.451118\n",
              "2019-12-13  12.100000    8.242756\n",
              "2019-12-16  11.950000    8.158482\n",
              "2019-12-17  11.650000    8.130638\n",
              "2019-12-18  11.400000    8.096165\n",
              "\n",
              "[391 rows x 2 columns]"
            ],
            "text/html": [
              "\n",
              "  <div id=\"df-bd00fd09-548b-4a28-911f-7bbefd74828c\">\n",
              "    <div class=\"colab-df-container\">\n",
              "      <div>\n",
              "<style scoped>\n",
              "    .dataframe tbody tr th:only-of-type {\n",
              "        vertical-align: middle;\n",
              "    }\n",
              "\n",
              "    .dataframe tbody tr th {\n",
              "        vertical-align: top;\n",
              "    }\n",
              "\n",
              "    .dataframe thead th {\n",
              "        text-align: right;\n",
              "    }\n",
              "</style>\n",
              "<table border=\"1\" class=\"dataframe\">\n",
              "  <thead>\n",
              "    <tr style=\"text-align: right;\">\n",
              "      <th></th>\n",
              "      <th>Close</th>\n",
              "      <th>Prediction</th>\n",
              "    </tr>\n",
              "    <tr>\n",
              "      <th>Date</th>\n",
              "      <th></th>\n",
              "      <th></th>\n",
              "    </tr>\n",
              "  </thead>\n",
              "  <tbody>\n",
              "    <tr>\n",
              "      <th>2018-05-15</th>\n",
              "      <td>77.449997</td>\n",
              "      <td>77.968643</td>\n",
              "    </tr>\n",
              "    <tr>\n",
              "      <th>2018-05-16</th>\n",
              "      <td>76.000000</td>\n",
              "      <td>77.327538</td>\n",
              "    </tr>\n",
              "    <tr>\n",
              "      <th>2018-05-17</th>\n",
              "      <td>76.500000</td>\n",
              "      <td>76.492409</td>\n",
              "    </tr>\n",
              "    <tr>\n",
              "      <th>2018-05-18</th>\n",
              "      <td>73.449997</td>\n",
              "      <td>75.807999</td>\n",
              "    </tr>\n",
              "    <tr>\n",
              "      <th>2018-05-21</th>\n",
              "      <td>71.599998</td>\n",
              "      <td>74.791199</td>\n",
              "    </tr>\n",
              "    <tr>\n",
              "      <th>...</th>\n",
              "      <td>...</td>\n",
              "      <td>...</td>\n",
              "    </tr>\n",
              "    <tr>\n",
              "      <th>2019-12-12</th>\n",
              "      <td>11.550000</td>\n",
              "      <td>8.451118</td>\n",
              "    </tr>\n",
              "    <tr>\n",
              "      <th>2019-12-13</th>\n",
              "      <td>12.100000</td>\n",
              "      <td>8.242756</td>\n",
              "    </tr>\n",
              "    <tr>\n",
              "      <th>2019-12-16</th>\n",
              "      <td>11.950000</td>\n",
              "      <td>8.158482</td>\n",
              "    </tr>\n",
              "    <tr>\n",
              "      <th>2019-12-17</th>\n",
              "      <td>11.650000</td>\n",
              "      <td>8.130638</td>\n",
              "    </tr>\n",
              "    <tr>\n",
              "      <th>2019-12-18</th>\n",
              "      <td>11.400000</td>\n",
              "      <td>8.096165</td>\n",
              "    </tr>\n",
              "  </tbody>\n",
              "</table>\n",
              "<p>391 rows × 2 columns</p>\n",
              "</div>\n",
              "      <button class=\"colab-df-convert\" onclick=\"convertToInteractive('df-bd00fd09-548b-4a28-911f-7bbefd74828c')\"\n",
              "              title=\"Convert this dataframe to an interactive table.\"\n",
              "              style=\"display:none;\">\n",
              "        \n",
              "  <svg xmlns=\"http://www.w3.org/2000/svg\" height=\"24px\"viewBox=\"0 0 24 24\"\n",
              "       width=\"24px\">\n",
              "    <path d=\"M0 0h24v24H0V0z\" fill=\"none\"/>\n",
              "    <path d=\"M18.56 5.44l.94 2.06.94-2.06 2.06-.94-2.06-.94-.94-2.06-.94 2.06-2.06.94zm-11 1L8.5 8.5l.94-2.06 2.06-.94-2.06-.94L8.5 2.5l-.94 2.06-2.06.94zm10 10l.94 2.06.94-2.06 2.06-.94-2.06-.94-.94-2.06-.94 2.06-2.06.94z\"/><path d=\"M17.41 7.96l-1.37-1.37c-.4-.4-.92-.59-1.43-.59-.52 0-1.04.2-1.43.59L10.3 9.45l-7.72 7.72c-.78.78-.78 2.05 0 2.83L4 21.41c.39.39.9.59 1.41.59.51 0 1.02-.2 1.41-.59l7.78-7.78 2.81-2.81c.8-.78.8-2.07 0-2.86zM5.41 20L4 18.59l7.72-7.72 1.47 1.35L5.41 20z\"/>\n",
              "  </svg>\n",
              "      </button>\n",
              "      \n",
              "  <style>\n",
              "    .colab-df-container {\n",
              "      display:flex;\n",
              "      flex-wrap:wrap;\n",
              "      gap: 12px;\n",
              "    }\n",
              "\n",
              "    .colab-df-convert {\n",
              "      background-color: #E8F0FE;\n",
              "      border: none;\n",
              "      border-radius: 50%;\n",
              "      cursor: pointer;\n",
              "      display: none;\n",
              "      fill: #1967D2;\n",
              "      height: 32px;\n",
              "      padding: 0 0 0 0;\n",
              "      width: 32px;\n",
              "    }\n",
              "\n",
              "    .colab-df-convert:hover {\n",
              "      background-color: #E2EBFA;\n",
              "      box-shadow: 0px 1px 2px rgba(60, 64, 67, 0.3), 0px 1px 3px 1px rgba(60, 64, 67, 0.15);\n",
              "      fill: #174EA6;\n",
              "    }\n",
              "\n",
              "    [theme=dark] .colab-df-convert {\n",
              "      background-color: #3B4455;\n",
              "      fill: #D2E3FC;\n",
              "    }\n",
              "\n",
              "    [theme=dark] .colab-df-convert:hover {\n",
              "      background-color: #434B5C;\n",
              "      box-shadow: 0px 1px 3px 1px rgba(0, 0, 0, 0.15);\n",
              "      filter: drop-shadow(0px 1px 2px rgba(0, 0, 0, 0.3));\n",
              "      fill: #FFFFFF;\n",
              "    }\n",
              "  </style>\n",
              "\n",
              "      <script>\n",
              "        const buttonEl =\n",
              "          document.querySelector('#df-bd00fd09-548b-4a28-911f-7bbefd74828c button.colab-df-convert');\n",
              "        buttonEl.style.display =\n",
              "          google.colab.kernel.accessAllowed ? 'block' : 'none';\n",
              "\n",
              "        async function convertToInteractive(key) {\n",
              "          const element = document.querySelector('#df-bd00fd09-548b-4a28-911f-7bbefd74828c');\n",
              "          const dataTable =\n",
              "            await google.colab.kernel.invokeFunction('convertToInteractive',\n",
              "                                                     [key], {});\n",
              "          if (!dataTable) return;\n",
              "\n",
              "          const docLinkHtml = 'Like what you see? Visit the ' +\n",
              "            '<a target=\"_blank\" href=https://colab.research.google.com/notebooks/data_table.ipynb>data table notebook</a>'\n",
              "            + ' to learn more about interactive tables.';\n",
              "          element.innerHTML = '';\n",
              "          dataTable['output_type'] = 'display_data';\n",
              "          await google.colab.output.renderOutput(dataTable, element);\n",
              "          const docLink = document.createElement('div');\n",
              "          docLink.innerHTML = docLinkHtml;\n",
              "          element.appendChild(docLink);\n",
              "        }\n",
              "      </script>\n",
              "    </div>\n",
              "  </div>\n",
              "  "
            ]
          },
          "metadata": {},
          "execution_count": 25
        }
      ]
    },
    {
      "cell_type": "code",
      "metadata": {
        "id": "0bHPWhvz5pJr"
      },
      "source": [
        "tcs_quote = web.DataReader('TCS.NS', data_source='yahoo', start='2012-01-01', end='2019-12-17')\n",
        "\n",
        "new_df = tcs_quote.filter(['Close'])\n",
        "\n",
        "last_60_day = new_df[-60:].values\n",
        "\n",
        "last_60_day_scaled = scaler.transform(last_60_day)\n",
        "\n",
        "X_test = []\n",
        "\n",
        "X_test.append(last_60_day_scaled)\n",
        "\n",
        "X_test = np.array(X_test)\n",
        "\n",
        "X_test = np.reshape(X_test, (X_test.shape[0], X_test.shape[1], 1))\n",
        "\n",
        "pred_price = model.predict(X_test)\n",
        "\n",
        "pred_price = scaler.inverse_transform(pred_price)\n",
        "\n",
        "print(pred_price)"
      ],
      "execution_count": null,
      "outputs": []
    },
    {
      "cell_type": "code",
      "metadata": {
        "id": "TE9ZiZHX6OM_"
      },
      "source": [
        "tcs_quote2 = web.DataReader('TCS.NS', data_source='yahoo', start='2019-12-18', end='2019-12-18')\n",
        "print(tcs_quote2['Close'])"
      ],
      "execution_count": null,
      "outputs": []
    },
    {
      "cell_type": "markdown",
      "metadata": {
        "id": "i4D2U19EL7Al"
      },
      "source": [
        "## **FUNCTION BUILDING**"
      ]
    },
    {
      "cell_type": "code",
      "metadata": {
        "id": "jwRD_2GrBkaN"
      },
      "source": [
        "def PLOT(data):\n",
        "  plt.figure(figsize=(16,8))\n",
        "  plt.title(\"Close Price History\")\n",
        "  plt.plot(data['Close'])\n",
        "  plt.xlabel('Date', fontsize=18)\n",
        "  plt.ylabel('Close Price USD($)', fontsize=18)\n",
        "  plt.show()\n",
        "\n",
        "def STOCK_PRED(stock,start,end):\n",
        "  df = web.DataReader(stock, data_source='yahoo', start=start, end=end)\n",
        "\n",
        "  PLOT(df)\n",
        "\n",
        "  data = df.filter(['Close'])\n",
        "  dataset = data.values\n",
        "  training_data_len = math.ceil(len(dataset) * .8)\n",
        "\n",
        "  scaler = MinMaxScaler(feature_range=(0,1))\n",
        "  scaled_data = scaler.fit_transform(dataset)\n",
        "\n",
        "  train_data = scaled_data[0:training_data_len, :]\n",
        "  x_train, y_train = [], []\n",
        "\n",
        "  for i in range(60, len(train_data)):\n",
        "    x_train.append(train_data[i-60:i,0])\n",
        "    y_train.append(train_data[i,0])\n",
        "\n",
        "  x_train, y_train = np.array(x_train), np.array(y_train)\n",
        "  x_train = np.reshape(x_train, (x_train.shape[0], x_train.shape[1], 1))\n",
        "\n",
        "  model = Sequential()\n",
        "\n",
        "  model.add(LSTM(50, return_sequences=True, input_shape = (x_train.shape[1],1)))\n",
        "  model.add(LSTM(50, return_sequences=False))\n",
        "  model.add(Dense(25))\n",
        "  model.add(Dense(1))\n",
        "\n",
        "  model.compile(optimizer='adam', loss='mean_squared_error')\n",
        "\n",
        "  model.fit(x_train, y_train, batch_size=1, epochs=1)\n",
        "\n",
        "  test_data = scaled_data[training_data_len-60:,:]\n",
        "\n",
        "  x_test, y_test = [], dataset[training_data_len:,:]\n",
        "\n",
        "  for i in range(60, len(test_data)):\n",
        "    x_test.append(test_data[i-60:i,0])\n",
        "\n",
        "  x_test = np.array(x_test)\n",
        "  x_test = np.reshape(x_test, (x_test.shape[0], x_test.shape[1], 1))\n",
        "\n",
        "  prediction = model.predict(x_test)\n",
        "  prediction = scaler.inverse_transform(prediction)\n",
        "\n",
        "  rmse = np.sqrt(np.mean(prediction- y_test)**2)\n",
        "\n",
        "  print(\"RMSE is : \", rmse)\n",
        "\n",
        "  train = data.iloc[:training_data_len,:]\n",
        "  valid = data.iloc[training_data_len:,:]\n",
        "  valid['Prediction'] = prediction\n",
        "\n",
        "  plt.figure(figsize=(16,8))\n",
        "  plt.title(\"Model\")\n",
        "  plt.xlabel('Date', fontsize=18)\n",
        "  plt.ylabel('Close Price USD($)', fontsize=18)\n",
        "  plt.plot(train['Close'])\n",
        "  plt.plot(valid[['Close','Prediction']])\n",
        "  plt.legend(['Train','Val','Prediction'], loc='lower right')\n",
        "  plt.show()\n",
        "\n",
        "  return model,scaler\n",
        "\n",
        "def PRICE_PRED(model,scaler,stock,start,end,date_pred):\n",
        "  quote = web.DataReader(stock, data_source='yahoo', start=start, end=end)\n",
        "  new_df = quote.filter(['Close'])\n",
        "  last_60_day = new_df[-60:].values\n",
        "  last_60_day_scaled = scaler.transform(last_60_day)\n",
        "  X_test = []\n",
        "  X_test.append(last_60_day_scaled)\n",
        "  X_test = np.array(X_test)\n",
        "  X_test = np.reshape(X_test, (X_test.shape[0], X_test.shape[1], 1))\n",
        "  pred_price = model.predict(X_test)\n",
        "  pred_price = scaler.inverse_transform(pred_price)\n",
        "  print(\"THE PREDICTED PRICE IS : \",pred_price)\n",
        "\n",
        "  quote2 = web.DataReader(stock, data_source='yahoo', start=date_pred, end=date_pred)\n",
        "  print(\"THE ACTUAL PRICE IS : \")\n",
        "  print(quote2['Close'])"
      ],
      "execution_count": null,
      "outputs": []
    },
    {
      "cell_type": "markdown",
      "metadata": {
        "id": "l1QJZmAYMEEX"
      },
      "source": [
        "## **TESTING FUNCTIONS**"
      ]
    },
    {
      "cell_type": "code",
      "metadata": {
        "id": "qp5OTxSGDSLT"
      },
      "source": [
        "stock = 'AAPL'\n",
        "start = '2012-01-01'\n",
        "end = '2020-08-13'\n",
        "date_pred = '2020-08-14'\n",
        "\n",
        "model,scaler = STOCK_PRED(stock,start,end)\n",
        "PRICE_PRED(model,scaler,stock,start,end,date_pred)"
      ],
      "execution_count": null,
      "outputs": []
    },
    {
      "cell_type": "code",
      "metadata": {
        "id": "vsSFHRyvDkq5"
      },
      "source": [
        "stock = 'TCS.NS'\n",
        "start = '2012-01-01'\n",
        "end = '2020-10-05'\n",
        "date_pred = '2020-10-06'\n",
        "\n",
        "model,scaler = STOCK_PRED(stock,start,end)\n",
        "PRICE_PRED(model,scaler,stock,start,end,date_pred)"
      ],
      "execution_count": null,
      "outputs": []
    },
    {
      "cell_type": "code",
      "metadata": {
        "id": "AXTGuhYREYTi"
      },
      "source": [
        "stock = 'LAURUSLABS.NS'\n",
        "start = '2012-01-01'\n",
        "end = '2020-10-05'\n",
        "date_pred = '2020-10-06'\n",
        "\n",
        "model,scaler = STOCK_PRED(stock,start,end)\n",
        "PRICE_PRED(model,scaler,stock,start,end,date_pred)"
      ],
      "execution_count": null,
      "outputs": []
    },
    {
      "cell_type": "code",
      "metadata": {
        "id": "_lgdB4NPE4II"
      },
      "source": [
        "from datetime import datetime\n",
        "\n",
        "# datetime object containing current date and time\n",
        "now = datetime.now()\n",
        "\n",
        "print(\"now =\", now)\n",
        "\n",
        "# dd/mm/YY H:M:S\n",
        "dt_string = now.strftime(\"%d/%m/%Y %H:%M:%S\")\n",
        "print(\"date and time =\", dt_string)"
      ],
      "execution_count": null,
      "outputs": []
    },
    {
      "cell_type": "code",
      "metadata": {
        "id": "qXIYuLkz-toG"
      },
      "source": [
        "date = now.strftime(\"%Y-%m-%d\")\n",
        "time = now.strftime(\"%H:%M:%S\")"
      ],
      "execution_count": null,
      "outputs": []
    },
    {
      "cell_type": "code",
      "metadata": {
        "id": "S5_ANBKQ_G5M"
      },
      "source": [
        "date"
      ],
      "execution_count": null,
      "outputs": []
    },
    {
      "cell_type": "code",
      "metadata": {
        "id": "feIOLbmX_kZG"
      },
      "source": [
        "x = datetime.now(tz)\n",
        "x"
      ],
      "execution_count": null,
      "outputs": []
    },
    {
      "cell_type": "code",
      "metadata": {
        "id": "yYXs4R8CA552"
      },
      "source": [
        "datetime.tzinfo()"
      ],
      "execution_count": null,
      "outputs": []
    },
    {
      "cell_type": "code",
      "metadata": {
        "id": "w82ASmxCB-oP"
      },
      "source": [],
      "execution_count": null,
      "outputs": []
    }
  ]
}